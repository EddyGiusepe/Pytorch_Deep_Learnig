{
  "nbformat": 4,
  "nbformat_minor": 0,
  "metadata": {
    "colab": {
      "name": "Pytorch_Deep_Learning.ipynb",
      "provenance": [],
      "authorship_tag": "ABX9TyM9g8nRDwIbUCJg8FVjcjME",
      "include_colab_link": true
    },
    "kernelspec": {
      "name": "python3",
      "display_name": "Python 3"
    },
    "language_info": {
      "name": "python"
    }
  },
  "cells": [
    {
      "cell_type": "markdown",
      "metadata": {
        "id": "view-in-github",
        "colab_type": "text"
      },
      "source": [
        "<a href=\"https://colab.research.google.com/github/EddyGiusepe/Pytorch_Deep_Learnig/blob/main/Pytorch_Deep_Learning.ipynb\" target=\"_parent\"><img src=\"https://colab.research.google.com/assets/colab-badge.svg\" alt=\"Open In Colab\"/></a>"
      ]
    },
    {
      "cell_type": "markdown",
      "metadata": {
        "id": "x3YQ4CmQckgi"
      },
      "source": [
        "# <h2 align='center'>**Pytorch: Deep Learning**</h2>"
      ]
    },
    {
      "cell_type": "markdown",
      "metadata": {
        "id": "Dqv4sVrmc1Xh"
      },
      "source": [
        "**Cientista de Dados Jr:** Eddy Giusepe Chirinos Isidro \n",
        "\n",
        "\n",
        "[Primeiros Passos com Pytorch | Deep Learning na prática](https://www.youtube.com/watch?v=pQs7BCkqz9Q).\n",
        "\n",
        "\n"
      ]
    },
    {
      "cell_type": "markdown",
      "metadata": {
        "id": "Bm8MSTOAeIa6"
      },
      "source": [
        "## Importamos as nossas bibliotecas"
      ]
    },
    {
      "cell_type": "code",
      "metadata": {
        "id": "l0wjhYN9tFoZ"
      },
      "source": [
        "import numpy as np\n",
        "import torch\n",
        "\n",
        "\n",
        "import matplotlib.pyplot as plt \n",
        "%matplotlib inline \n",
        "\n"
      ],
      "execution_count": 1,
      "outputs": []
    },
    {
      "cell_type": "markdown",
      "metadata": {
        "id": "7RBGDphSd9ee"
      },
      "source": [
        "## Download ``MNIST`` Dataset"
      ]
    },
    {
      "cell_type": "code",
      "metadata": {
        "colab": {
          "base_uri": "https://localhost:8080/"
        },
        "id": "iIJQzwozd7gz",
        "outputId": "07adcfbb-c95e-4236-fca3-85f8af1e6047"
      },
      "source": [
        "from torchvision import datasets, transforms\n",
        "\n",
        "transform = transforms.Compose([transforms.ToTensor(), transforms.Normalize((0.5,),(0.5,))])\n",
        "\n",
        "\n",
        "# Download Dados de treino\n",
        "trainset = datasets.MNIST('~/.pytorch_data/MNIST_data/', download=True, train=True, transform=transform)\n",
        "\n",
        "trainloader = torch.utils.data.DataLoader(trainset, batch_size=10, shuffle=True)\n"
      ],
      "execution_count": 2,
      "outputs": [
        {
          "output_type": "stream",
          "text": [
            "/usr/local/lib/python3.7/dist-packages/torchvision/datasets/mnist.py:498: UserWarning: The given NumPy array is not writeable, and PyTorch does not support non-writeable tensors. This means you can write to the underlying (supposedly non-writeable) NumPy array using the tensor. You may want to copy the array to protect its data or make it writeable before converting it to a tensor. This type of warning will be suppressed for the rest of this program. (Triggered internally at  /pytorch/torch/csrc/utils/tensor_numpy.cpp:180.)\n",
            "  return torch.from_numpy(parsed.astype(m[2], copy=False)).view(*s)\n"
          ],
          "name": "stderr"
        }
      ]
    },
    {
      "cell_type": "code",
      "metadata": {
        "colab": {
          "base_uri": "https://localhost:8080/"
        },
        "id": "66PdKni9ew29",
        "outputId": "fa64187b-02b7-4990-9980-d890ad9f628b"
      },
      "source": [
        "trainset"
      ],
      "execution_count": 3,
      "outputs": [
        {
          "output_type": "execute_result",
          "data": {
            "text/plain": [
              "Dataset MNIST\n",
              "    Number of datapoints: 60000\n",
              "    Root location: /root/.pytorch_data/MNIST_data/\n",
              "    Split: Train\n",
              "    StandardTransform\n",
              "Transform: Compose(\n",
              "               ToTensor()\n",
              "               Normalize(mean=(0.5,), std=(0.5,))\n",
              "           )"
            ]
          },
          "metadata": {
            "tags": []
          },
          "execution_count": 3
        }
      ]
    },
    {
      "cell_type": "code",
      "metadata": {
        "colab": {
          "base_uri": "https://localhost:8080/"
        },
        "id": "i3LRiSqogEdQ",
        "outputId": "02f19130-ca48-4eae-df91-32677b551ecf"
      },
      "source": [
        "trainloader"
      ],
      "execution_count": 4,
      "outputs": [
        {
          "output_type": "execute_result",
          "data": {
            "text/plain": [
              "<torch.utils.data.dataloader.DataLoader at 0x7f76b2e0bd50>"
            ]
          },
          "metadata": {
            "tags": []
          },
          "execution_count": 4
        }
      ]
    },
    {
      "cell_type": "markdown",
      "metadata": {
        "id": "IDm5SBxzgfue"
      },
      "source": [
        "## A imagem"
      ]
    },
    {
      "cell_type": "markdown",
      "metadata": {
        "id": "nRnnibfkgj6k"
      },
      "source": [
        "Dasse DataLoad em ``Pytorch`` nos ajuda a carregar e iterar sobre elementos em um conjunto de Dados. Esta classe está disponível como DataLoader no módulo torch.utils.data module. Agora nós temos os Dados de treinamento no objeto ``trainloader``. Vamos criar um interator em trainloader para que possamos fazer lopp nos Dados MNIST.\n",
        "\n",
        "\n",
        "* Batch tamanho 10:\n",
        "  * Representa o número de imagens que nós vamos utilizar a cada iteração que possamos na nossa ``Rede Neural``.\n",
        "\n",
        "* Shufle = True:\n",
        "  * Para embaralhar os Dados.\n",
        "\n",
        "\n",
        "Vamos dar uma olhada na primeira Batch:  \n"
      ]
    },
    {
      "cell_type": "code",
      "metadata": {
        "id": "oyeqqGCRgPxW"
      },
      "source": [
        "dataiter = iter(trainloader)\n",
        "\n",
        "images, labels = dataiter.next()"
      ],
      "execution_count": 5,
      "outputs": []
    },
    {
      "cell_type": "code",
      "metadata": {
        "colab": {
          "base_uri": "https://localhost:8080/"
        },
        "id": "1Vaof9WMj21J",
        "outputId": "8716d02a-3b93-4e07-d17f-4b8a5aeecfe1"
      },
      "source": [
        "print('Image type: ', type(images))\n",
        "print(\"\")\n",
        "print('image shape:', images.shape)"
      ],
      "execution_count": 6,
      "outputs": [
        {
          "output_type": "stream",
          "text": [
            "Image type:  <class 'torch.Tensor'>\n",
            "\n",
            "image shape: torch.Size([10, 1, 28, 28])\n"
          ],
          "name": "stdout"
        }
      ]
    },
    {
      "cell_type": "code",
      "metadata": {
        "colab": {
          "base_uri": "https://localhost:8080/"
        },
        "id": "lfxLS1p_kPEM",
        "outputId": "4331e882-3f7d-47c2-a5d0-09600e15df05"
      },
      "source": [
        "print('Labels shape : ', labels.shape)\n",
        "print(\"\")\n",
        "print('Labels :', labels)"
      ],
      "execution_count": 7,
      "outputs": [
        {
          "output_type": "stream",
          "text": [
            "Labels shape :  torch.Size([10])\n",
            "\n",
            "Labels : tensor([7, 9, 1, 6, 8, 4, 5, 1, 0, 2])\n"
          ],
          "name": "stdout"
        }
      ]
    },
    {
      "cell_type": "markdown",
      "metadata": {
        "id": "utaT3eSAkw77"
      },
      "source": [
        "Podemos ver que as imagens são tensores com shape [10, 1, 28, 28]. Ou seja, temos aqui $10$ imagens por batch com um (\"1\") color channel (cinza) e $28$x$28$ pixels por imagem."
      ]
    },
    {
      "cell_type": "code",
      "metadata": {
        "colab": {
          "base_uri": "https://localhost:8080/",
          "height": 265
        },
        "id": "CznKVin_krUf",
        "outputId": "a3dad00e-c15d-4479-e8a8-9dbe7882768f"
      },
      "source": [
        "plt.imshow(images[0].numpy().squeeze());"
      ],
      "execution_count": 8,
      "outputs": [
        {
          "output_type": "display_data",
          "data": {
            "image/png": "[encoded data removed]",
            "text/plain": [
              "<Figure size 432x288 with 1 Axes>"
            ]
          },
          "metadata": {
            "tags": [],
            "needs_background": "light"
          }
        }
      ]
    },
    {
      "cell_type": "code",
      "metadata": {
        "colab": {
          "base_uri": "https://localhost:8080/",
          "height": 265
        },
        "id": "BKq2PdVulyc_",
        "outputId": "c4968211-981c-4085-8c2a-a81c3684fdee"
      },
      "source": [
        "plt.imshow(images[0].numpy().squeeze(), cmap='Greys_r');"
      ],
      "execution_count": 9,
      "outputs": [
        {
          "output_type": "display_data",
          "data": {
            "image/png": "[encoded data removed]",
            "text/plain": [
              "<Figure size 432x288 with 1 Axes>"
            ]
          },
          "metadata": {
            "tags": [],
            "needs_background": "light"
          }
        }
      ]
    },
    {
      "cell_type": "markdown",
      "metadata": {
        "id": "wRPHmVpzmFR8"
      },
      "source": [
        "## Criando a Rede Neural "
      ]
    },
    {
      "cell_type": "code",
      "metadata": {
        "id": "U6kARm6amCGh"
      },
      "source": [
        "from torch import nn\n",
        "\n",
        "\n",
        "class Network(nn.Module):\n",
        "  def __init__(self):\n",
        "      super().__init__()\n",
        "      self.hidden_1 = nn.Linear(784, 128)\n",
        "      self.hidden_2 = nn.Linear(128, 64)\n",
        "\n",
        "\n",
        "\n",
        "      self.output = nn.Linear(64, 10)\n",
        "\n",
        "\n",
        "\n",
        "      self.Relu = nn.ReLU()\n",
        "      self.LogSoftmax = nn.LogSoftmax(dim=1)\n",
        "\n",
        "\n",
        "  def forward(self, x):\n",
        "    x = self.hidden_1(x)\n",
        "    x = self.Relu(x) \n",
        "\n",
        "\n",
        "    x = self.hidden_2(x)\n",
        "    x = self.Relu(x)\n",
        "\n",
        "\n",
        "\n",
        "    x = self.output(x)\n",
        "    x = self.LogSoftmax(x)\n",
        "\n",
        "\n",
        "    return x\n",
        "\n",
        "\n"
      ],
      "execution_count": 10,
      "outputs": []
    },
    {
      "cell_type": "code",
      "metadata": {
        "colab": {
          "base_uri": "https://localhost:8080/"
        },
        "id": "gPXY8joTpoX1",
        "outputId": "52428799-6f78-43d8-de70-9952430fcf9b"
      },
      "source": [
        "modelo = Network()\n",
        "\n",
        "\n",
        "modelo"
      ],
      "execution_count": 11,
      "outputs": [
        {
          "output_type": "execute_result",
          "data": {
            "text/plain": [
              "Network(\n",
              "  (hidden_1): Linear(in_features=784, out_features=128, bias=True)\n",
              "  (hidden_2): Linear(in_features=128, out_features=64, bias=True)\n",
              "  (output): Linear(in_features=64, out_features=10, bias=True)\n",
              "  (Relu): ReLU()\n",
              "  (LogSoftmax): LogSoftmax(dim=1)\n",
              ")"
            ]
          },
          "metadata": {
            "tags": []
          },
          "execution_count": 11
        }
      ]
    },
    {
      "cell_type": "code",
      "metadata": {
        "colab": {
          "base_uri": "https://localhost:8080/"
        },
        "id": "y7I9EiM4sFds",
        "outputId": "8c979e18-81af-4233-f502-1d303e9ffea0"
      },
      "source": [
        "images.shape[0]"
      ],
      "execution_count": 12,
      "outputs": [
        {
          "output_type": "execute_result",
          "data": {
            "text/plain": [
              "10"
            ]
          },
          "metadata": {
            "tags": []
          },
          "execution_count": 12
        }
      ]
    },
    {
      "cell_type": "code",
      "metadata": {
        "colab": {
          "base_uri": "https://localhost:8080/"
        },
        "id": "zTFrMTe8t0zZ",
        "outputId": "c1aae86a-fcd8-4fb4-af96-b6a9716dfe40"
      },
      "source": [
        "print('image (shape): ', images.shape)\n",
        "print(\"\")\n",
        "print('image shape[0]:', images.shape[0])\n",
        "print(\"\")\n",
        "print(\"images.view(images.shape[0], -1).shape: \", images.view(images.shape[0], -1).shape)\n"
      ],
      "execution_count": 13,
      "outputs": [
        {
          "output_type": "stream",
          "text": [
            "image (shape):  torch.Size([10, 1, 28, 28])\n",
            "\n",
            "image shape[0]: 10\n",
            "\n",
            "images.view(images.shape[0], -1).shape:  torch.Size([10, 784])\n"
          ],
          "name": "stdout"
        }
      ]
    },
    {
      "cell_type": "code",
      "metadata": {
        "id": "i8nW5WG-u63g"
      },
      "source": [
        "from torch import optim"
      ],
      "execution_count": 14,
      "outputs": []
    },
    {
      "cell_type": "code",
      "metadata": {
        "colab": {
          "base_uri": "https://localhost:8080/"
        },
        "id": "6nWx1jBRl1D6",
        "outputId": "08d42add-d65d-4273-a3d2-f128f3350d6d"
      },
      "source": [
        "criterion = nn.NLLLoss()\n",
        "optimizer = optim.SGD(modelo.parameters(), lr=0.003)\n",
        "\n",
        "\n",
        "epocas = 5\n",
        "\n",
        "for epoca in range(epocas):\n",
        "  loss_ = 0\n",
        "  for images, labels in trainloader:\n",
        "    # Flatten imagem em vetor de 784 elementos\n",
        "    images = images.view(images.shape[0], -1)\n",
        "\n",
        "\n",
        "\n",
        "    optimizer.zero_grad()\n",
        "    output = modelo.forward(images)\n",
        "    loss = criterion(output, labels)\n",
        "    loss.backward()\n",
        "    optimizer.step()\n",
        "\n",
        "\n",
        "    loss_ += loss.item()\n",
        "  else:\n",
        "    print(f\"Loss Treino: {loss_/len(trainloader)}\")  \n",
        "    \n"
      ],
      "execution_count": 15,
      "outputs": [
        {
          "output_type": "stream",
          "text": [
            "Loss Treino: 0.7349348462199171\n",
            "Loss Treino: 0.32004657128158337\n",
            "Loss Treino: 0.26814578657861177\n",
            "Loss Treino: 0.22828139901479397\n",
            "Loss Treino: 0.1945404481004613\n"
          ],
          "name": "stdout"
        }
      ]
    },
    {
      "cell_type": "code",
      "metadata": {
        "id": "VDPyLGZEmNRW"
      },
      "source": [
        "images, labels = next(iter(trainloader))"
      ],
      "execution_count": 22,
      "outputs": []
    },
    {
      "cell_type": "code",
      "metadata": {
        "id": "qFiKmx6Sg59H"
      },
      "source": [
        "#torch.size\n",
        "\n",
        "img = images[0].view(1, 784)"
      ],
      "execution_count": 23,
      "outputs": []
    },
    {
      "cell_type": "code",
      "metadata": {
        "id": "8jKrsKlShKYW"
      },
      "source": [
        "# Bloqueia o cálculo de gradiente - usado para avaliação\n",
        "\n",
        "with torch.no_grad():\n",
        "  logs = modelo(img)"
      ],
      "execution_count": 24,
      "outputs": []
    },
    {
      "cell_type": "code",
      "metadata": {
        "id": "dQU-pSZ2hh-c"
      },
      "source": [
        "# Outout of the network are log-probabilities, need to take axponential for probabilities\n",
        "\n",
        "p = torch.exp(logs)\n",
        "\n",
        "p = p.data.numpy().squeeze()\n"
      ],
      "execution_count": 25,
      "outputs": []
    },
    {
      "cell_type": "code",
      "metadata": {
        "colab": {
          "base_uri": "https://localhost:8080/",
          "height": 297
        },
        "id": "StG9ajpxiybZ",
        "outputId": "1115fa75-4030-4702-e124-1e23e70e96f1"
      },
      "source": [
        "fig, (ax1, ax2) = plt.subplots(figsize = (8, 4), ncols=2)\n",
        "ax1.imshow(img.resize_(1, 28, 28).numpy().squeeze())\n",
        "ax1.axis('off')\n",
        "ax2.barh(np.arange(10), p)\n",
        "ax2.set_yticks(np.arange(10))\n",
        "\n",
        "ax2.set_yticklabels(np.arange(10))\n",
        "\n",
        "ax2.set_title('Probabilidade')\n",
        "ax2.set_xlim(0, 1, 1)\n",
        "\n",
        "\n",
        "plt.tight_layout()"
      ],
      "execution_count": 26,
      "outputs": [
        {
          "output_type": "display_data",
          "data": {
            "image/png": "[encoded data removed]",
            "text/plain": [
              "<Figure size 576x288 with 2 Axes>"
            ]
          },
          "metadata": {
            "tags": [],
            "needs_background": "light"
          }
        }
      ]
    },
    {
      "cell_type": "markdown",
      "metadata": {
        "id": "MpaxyQbTlutw"
      },
      "source": [
        "## Uma outra forma"
      ]
    },
    {
      "cell_type": "code",
      "metadata": {
        "id": "v3uQElaoloww"
      },
      "source": [
        ""
      ],
      "execution_count": 20,
      "outputs": []
    }
  ]
}